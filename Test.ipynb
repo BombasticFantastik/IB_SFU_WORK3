{
 "cells": [
  {
   "cell_type": "code",
   "execution_count": 1,
   "id": "e486c07c-bc87-45dd-9563-237238b08ea9",
   "metadata": {},
   "outputs": [],
   "source": [
    "#28"
   ]
  },
  {
   "cell_type": "code",
   "execution_count": null,
   "id": "be3633b3-b0aa-4806-8da6-5434412708e7",
   "metadata": {},
   "outputs": [],
   "source": []
  }
 ],
 "metadata": {
  "kernelspec": {
   "display_name": "Python 3 (ipykernel)",
   "language": "python",
   "name": "python3"
  },
  "language_info": {
   "codemirror_mode": {
    "name": "ipython",
    "version": 3
   },
   "file_extension": ".py",
   "mimetype": "text/x-python",
   "name": "python",
   "nbconvert_exporter": "python",
   "pygments_lexer": "ipython3",
   "version": "3.13.2"
  }
 },
 "nbformat": 4,
 "nbformat_minor": 5
}
